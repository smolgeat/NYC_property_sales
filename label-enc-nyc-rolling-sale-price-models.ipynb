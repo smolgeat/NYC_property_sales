{
 "cells": [
  {
   "cell_type": "code",
   "execution_count": 1,
   "metadata": {
    "_cell_guid": "b1076dfc-b9ad-4769-8c92-a6c4dae69d19",
    "_uuid": "8f2839f25d086af736a60e9eeb907d3b93b6e0e5"
   },
   "outputs": [
    {
     "name": "stdout",
     "output_type": "stream",
     "text": [
      "__notebook__.ipynb\r\n"
     ]
    }
   ],
   "source": [
    "import numpy as np # linear algebra\n",
    "import pandas as pd # data processing\n",
    "import matplotlib.pyplot as plt\n",
    "\n",
    "\n",
    "from sklearn.model_selection import train_test_split\n",
    "\n",
    "from sklearn.metrics import mean_absolute_error,SCORERS\n",
    "from sklearn.model_selection import cross_val_score\n",
    "\n",
    "\n",
    "from sklearn.preprocessing import LabelEncoder\n",
    "\n",
    "# Models\n",
    "from sklearn.ensemble import RandomForestRegressor\n",
    "import statsmodels.api as sm \n",
    "from sklearn.linear_model import LinearRegression \n",
    "from sklearn.linear_model import Lasso\n",
    "from sklearn.linear_model import Ridge\n",
    "from xgboost import XGBRegressor\n",
    "\n",
    "import xgboost as xgb\n",
    "\n",
    "\n",
    "#To export the model\n",
    "import pickle\n",
    "\n",
    "\n",
    "!ls"
   ]
  },
  {
   "cell_type": "code",
   "execution_count": 2,
   "metadata": {},
   "outputs": [],
   "source": [
    "np.random.seed(30)"
   ]
  },
  {
   "cell_type": "code",
   "execution_count": 3,
   "metadata": {
    "_cell_guid": "79c7e3d0-c299-4dcb-8224-4455121ee9b0",
    "_uuid": "d629ff2d2480ee46fbb7e2d37f6b5fab8052498a"
   },
   "outputs": [],
   "source": [
    "df = pd.read_csv('/kaggle/input/nyc-rolling-data.csv')"
   ]
  },
  {
   "cell_type": "code",
   "execution_count": 4,
   "metadata": {},
   "outputs": [
    {
     "data": {
      "text/html": [
       "<div>\n",
       "<style scoped>\n",
       "    .dataframe tbody tr th:only-of-type {\n",
       "        vertical-align: middle;\n",
       "    }\n",
       "\n",
       "    .dataframe tbody tr th {\n",
       "        vertical-align: top;\n",
       "    }\n",
       "\n",
       "    .dataframe thead th {\n",
       "        text-align: right;\n",
       "    }\n",
       "</style>\n",
       "<table border=\"1\" class=\"dataframe\">\n",
       "  <thead>\n",
       "    <tr style=\"text-align: right;\">\n",
       "      <th></th>\n",
       "      <th>BOROUGH</th>\n",
       "      <th>NEIGHBORHOOD</th>\n",
       "      <th>BUILDING CLASS CATEGORY</th>\n",
       "      <th>TAX CLASS AT PRESENT</th>\n",
       "      <th>BLOCK</th>\n",
       "      <th>LOT</th>\n",
       "      <th>EASE-MENT</th>\n",
       "      <th>BUILDING CLASS AT PRESENT</th>\n",
       "      <th>ADDRESS</th>\n",
       "      <th>APARTMENT NUMBER</th>\n",
       "      <th>...</th>\n",
       "      <th>RESIDENTIAL UNITS</th>\n",
       "      <th>COMMERCIAL UNITS</th>\n",
       "      <th>TOTAL UNITS</th>\n",
       "      <th>LAND SQUARE FEET</th>\n",
       "      <th>GROSS SQUARE FEET</th>\n",
       "      <th>YEAR BUILT</th>\n",
       "      <th>TAX CLASS AT TIME OF SALE</th>\n",
       "      <th>BUILDING CLASS AT TIME OF SALE</th>\n",
       "      <th>SALE PRICE</th>\n",
       "      <th>SALE DATE</th>\n",
       "    </tr>\n",
       "  </thead>\n",
       "  <tbody>\n",
       "    <tr>\n",
       "      <th>0</th>\n",
       "      <td>1</td>\n",
       "      <td>ALPHABET CITY</td>\n",
       "      <td>01 ONE FAMILY DWELLINGS</td>\n",
       "      <td>1</td>\n",
       "      <td>376</td>\n",
       "      <td>43</td>\n",
       "      <td>NaN</td>\n",
       "      <td>S1</td>\n",
       "      <td>743 EAST 6TH STREET</td>\n",
       "      <td>NaN</td>\n",
       "      <td>...</td>\n",
       "      <td>1.0</td>\n",
       "      <td>1.0</td>\n",
       "      <td>2.0</td>\n",
       "      <td>2090.0</td>\n",
       "      <td>3680.0</td>\n",
       "      <td>1940.0</td>\n",
       "      <td>1</td>\n",
       "      <td>S1</td>\n",
       "      <td>3200000</td>\n",
       "      <td>2019-07-24 00:00:00</td>\n",
       "    </tr>\n",
       "    <tr>\n",
       "      <th>1</th>\n",
       "      <td>1</td>\n",
       "      <td>ALPHABET CITY</td>\n",
       "      <td>01 ONE FAMILY DWELLINGS</td>\n",
       "      <td>1</td>\n",
       "      <td>390</td>\n",
       "      <td>61</td>\n",
       "      <td>NaN</td>\n",
       "      <td>A4</td>\n",
       "      <td>189 EAST 7TH STREET</td>\n",
       "      <td>NaN</td>\n",
       "      <td>...</td>\n",
       "      <td>1.0</td>\n",
       "      <td>0.0</td>\n",
       "      <td>1.0</td>\n",
       "      <td>987.0</td>\n",
       "      <td>2183.0</td>\n",
       "      <td>1860.0</td>\n",
       "      <td>1</td>\n",
       "      <td>A4</td>\n",
       "      <td>0</td>\n",
       "      <td>2019-09-25 00:00:00</td>\n",
       "    </tr>\n",
       "    <tr>\n",
       "      <th>2</th>\n",
       "      <td>1</td>\n",
       "      <td>ALPHABET CITY</td>\n",
       "      <td>02 TWO FAMILY DWELLINGS</td>\n",
       "      <td>1</td>\n",
       "      <td>404</td>\n",
       "      <td>1</td>\n",
       "      <td>NaN</td>\n",
       "      <td>B9</td>\n",
       "      <td>166 AVENUE A</td>\n",
       "      <td>NaN</td>\n",
       "      <td>...</td>\n",
       "      <td>2.0</td>\n",
       "      <td>0.0</td>\n",
       "      <td>2.0</td>\n",
       "      <td>1510.0</td>\n",
       "      <td>4520.0</td>\n",
       "      <td>1900.0</td>\n",
       "      <td>1</td>\n",
       "      <td>B9</td>\n",
       "      <td>0</td>\n",
       "      <td>2019-07-22 00:00:00</td>\n",
       "    </tr>\n",
       "    <tr>\n",
       "      <th>3</th>\n",
       "      <td>1</td>\n",
       "      <td>ALPHABET CITY</td>\n",
       "      <td>03 THREE FAMILY DWELLINGS</td>\n",
       "      <td>1</td>\n",
       "      <td>377</td>\n",
       "      <td>56</td>\n",
       "      <td>NaN</td>\n",
       "      <td>C0</td>\n",
       "      <td>263 EAST 7TH STREET</td>\n",
       "      <td>NaN</td>\n",
       "      <td>...</td>\n",
       "      <td>3.0</td>\n",
       "      <td>0.0</td>\n",
       "      <td>3.0</td>\n",
       "      <td>2430.0</td>\n",
       "      <td>3600.0</td>\n",
       "      <td>1899.0</td>\n",
       "      <td>1</td>\n",
       "      <td>C0</td>\n",
       "      <td>6300000</td>\n",
       "      <td>2019-04-30 00:00:00</td>\n",
       "    </tr>\n",
       "    <tr>\n",
       "      <th>4</th>\n",
       "      <td>1</td>\n",
       "      <td>ALPHABET CITY</td>\n",
       "      <td>03 THREE FAMILY DWELLINGS</td>\n",
       "      <td>1</td>\n",
       "      <td>393</td>\n",
       "      <td>9</td>\n",
       "      <td>NaN</td>\n",
       "      <td>C0</td>\n",
       "      <td>604 EAST 11TH STREET</td>\n",
       "      <td>NaN</td>\n",
       "      <td>...</td>\n",
       "      <td>3.0</td>\n",
       "      <td>0.0</td>\n",
       "      <td>3.0</td>\n",
       "      <td>2375.0</td>\n",
       "      <td>5110.0</td>\n",
       "      <td>1939.0</td>\n",
       "      <td>1</td>\n",
       "      <td>C0</td>\n",
       "      <td>0</td>\n",
       "      <td>2019-10-24 00:00:00</td>\n",
       "    </tr>\n",
       "  </tbody>\n",
       "</table>\n",
       "<p>5 rows × 21 columns</p>\n",
       "</div>"
      ],
      "text/plain": [
       "   BOROUGH   NEIGHBORHOOD    BUILDING CLASS CATEGORY TAX CLASS AT PRESENT  \\\n",
       "0        1  ALPHABET CITY    01 ONE FAMILY DWELLINGS                    1   \n",
       "1        1  ALPHABET CITY    01 ONE FAMILY DWELLINGS                    1   \n",
       "2        1  ALPHABET CITY    02 TWO FAMILY DWELLINGS                    1   \n",
       "3        1  ALPHABET CITY  03 THREE FAMILY DWELLINGS                    1   \n",
       "4        1  ALPHABET CITY  03 THREE FAMILY DWELLINGS                    1   \n",
       "\n",
       "   BLOCK  LOT  EASE-MENT BUILDING CLASS AT PRESENT               ADDRESS  \\\n",
       "0    376   43        NaN                        S1   743 EAST 6TH STREET   \n",
       "1    390   61        NaN                        A4   189 EAST 7TH STREET   \n",
       "2    404    1        NaN                        B9          166 AVENUE A   \n",
       "3    377   56        NaN                        C0   263 EAST 7TH STREET   \n",
       "4    393    9        NaN                        C0  604 EAST 11TH STREET   \n",
       "\n",
       "  APARTMENT NUMBER  ...  RESIDENTIAL UNITS  COMMERCIAL UNITS  TOTAL UNITS  \\\n",
       "0              NaN  ...                1.0               1.0          2.0   \n",
       "1              NaN  ...                1.0               0.0          1.0   \n",
       "2              NaN  ...                2.0               0.0          2.0   \n",
       "3              NaN  ...                3.0               0.0          3.0   \n",
       "4              NaN  ...                3.0               0.0          3.0   \n",
       "\n",
       "   LAND SQUARE FEET  GROSS SQUARE FEET  YEAR BUILT  TAX CLASS AT TIME OF SALE  \\\n",
       "0            2090.0             3680.0      1940.0                          1   \n",
       "1             987.0             2183.0      1860.0                          1   \n",
       "2            1510.0             4520.0      1900.0                          1   \n",
       "3            2430.0             3600.0      1899.0                          1   \n",
       "4            2375.0             5110.0      1939.0                          1   \n",
       "\n",
       "   BUILDING CLASS AT TIME OF SALE SALE PRICE            SALE DATE  \n",
       "0                              S1    3200000  2019-07-24 00:00:00  \n",
       "1                              A4          0  2019-09-25 00:00:00  \n",
       "2                              B9          0  2019-07-22 00:00:00  \n",
       "3                              C0    6300000  2019-04-30 00:00:00  \n",
       "4                              C0          0  2019-10-24 00:00:00  \n",
       "\n",
       "[5 rows x 21 columns]"
      ]
     },
     "execution_count": 4,
     "metadata": {},
     "output_type": "execute_result"
    }
   ],
   "source": [
    "df.head()"
   ]
  },
  {
   "cell_type": "code",
   "execution_count": 5,
   "metadata": {},
   "outputs": [
    {
     "data": {
      "text/plain": [
       "Index(['BOROUGH', 'NEIGHBORHOOD', 'BUILDING CLASS CATEGORY',\n",
       "       'TAX CLASS AT PRESENT', 'BLOCK', 'LOT', 'EASE-MENT',\n",
       "       'BUILDING CLASS AT PRESENT', 'ADDRESS', 'APARTMENT NUMBER', 'ZIP CODE',\n",
       "       'RESIDENTIAL UNITS', 'COMMERCIAL UNITS', 'TOTAL UNITS',\n",
       "       'LAND SQUARE FEET', 'GROSS SQUARE FEET', 'YEAR BUILT',\n",
       "       'TAX CLASS AT TIME OF SALE', 'BUILDING CLASS AT TIME OF SALE',\n",
       "       'SALE PRICE', 'SALE DATE'],\n",
       "      dtype='object')"
      ]
     },
     "execution_count": 5,
     "metadata": {},
     "output_type": "execute_result"
    }
   ],
   "source": [
    "df.columns"
   ]
  },
  {
   "cell_type": "markdown",
   "execution_count": null,
   "metadata": {},
   "source": [
    "# Data Cleaning/Validation"
   ]
  },
  {
   "cell_type": "code",
   "execution_count": 6,
   "metadata": {},
   "outputs": [],
   "source": [
    "# change building class to type int\n",
    "df['BUILDING CLASS CATEGORY']=df['BUILDING CLASS CATEGORY'].str[0:2]\n",
    "df['BUILDING CLASS CATEGORY']=df['BUILDING CLASS CATEGORY'].astype(int)\n",
    "\n",
    "#drop easement 100% Nan ,Apartment Number 70% Nan and Address is too specific probably wont generalize\n",
    "df.drop(columns=['EASE-MENT','APARTMENT NUMBER','ADDRESS'], inplace=True)\n",
    "\n",
    "# Drop properties that were transfered without cash consideration\n",
    "df=df[df['SALE PRICE']!=0]\n",
    "\n",
    "# Deal with NaN\n",
    "df.fillna(-1,inplace=True)"
   ]
  },
  {
   "cell_type": "code",
   "execution_count": 7,
   "metadata": {},
   "outputs": [
    {
     "data": {
      "text/html": [
       "<div>\n",
       "<style scoped>\n",
       "    .dataframe tbody tr th:only-of-type {\n",
       "        vertical-align: middle;\n",
       "    }\n",
       "\n",
       "    .dataframe tbody tr th {\n",
       "        vertical-align: top;\n",
       "    }\n",
       "\n",
       "    .dataframe thead th {\n",
       "        text-align: right;\n",
       "    }\n",
       "</style>\n",
       "<table border=\"1\" class=\"dataframe\">\n",
       "  <thead>\n",
       "    <tr style=\"text-align: right;\">\n",
       "      <th></th>\n",
       "      <th>BOROUGH</th>\n",
       "      <th>NEIGHBORHOOD</th>\n",
       "      <th>BUILDING CLASS CATEGORY</th>\n",
       "      <th>TAX CLASS AT PRESENT</th>\n",
       "      <th>BLOCK</th>\n",
       "      <th>LOT</th>\n",
       "      <th>BUILDING CLASS AT PRESENT</th>\n",
       "      <th>ZIP CODE</th>\n",
       "      <th>RESIDENTIAL UNITS</th>\n",
       "      <th>COMMERCIAL UNITS</th>\n",
       "      <th>TOTAL UNITS</th>\n",
       "      <th>LAND SQUARE FEET</th>\n",
       "      <th>GROSS SQUARE FEET</th>\n",
       "      <th>YEAR BUILT</th>\n",
       "      <th>TAX CLASS AT TIME OF SALE</th>\n",
       "      <th>BUILDING CLASS AT TIME OF SALE</th>\n",
       "      <th>SALE PRICE</th>\n",
       "      <th>SALE DATE</th>\n",
       "    </tr>\n",
       "  </thead>\n",
       "  <tbody>\n",
       "    <tr>\n",
       "      <th>0</th>\n",
       "      <td>1</td>\n",
       "      <td>ALPHABET CITY</td>\n",
       "      <td>1</td>\n",
       "      <td>1</td>\n",
       "      <td>376</td>\n",
       "      <td>43</td>\n",
       "      <td>S1</td>\n",
       "      <td>10009.0</td>\n",
       "      <td>1.0</td>\n",
       "      <td>1.0</td>\n",
       "      <td>2.0</td>\n",
       "      <td>2090.0</td>\n",
       "      <td>3680.0</td>\n",
       "      <td>1940.0</td>\n",
       "      <td>1</td>\n",
       "      <td>S1</td>\n",
       "      <td>3200000</td>\n",
       "      <td>2019-07-24 00:00:00</td>\n",
       "    </tr>\n",
       "    <tr>\n",
       "      <th>3</th>\n",
       "      <td>1</td>\n",
       "      <td>ALPHABET CITY</td>\n",
       "      <td>3</td>\n",
       "      <td>1</td>\n",
       "      <td>377</td>\n",
       "      <td>56</td>\n",
       "      <td>C0</td>\n",
       "      <td>10009.0</td>\n",
       "      <td>3.0</td>\n",
       "      <td>0.0</td>\n",
       "      <td>3.0</td>\n",
       "      <td>2430.0</td>\n",
       "      <td>3600.0</td>\n",
       "      <td>1899.0</td>\n",
       "      <td>1</td>\n",
       "      <td>C0</td>\n",
       "      <td>6300000</td>\n",
       "      <td>2019-04-30 00:00:00</td>\n",
       "    </tr>\n",
       "    <tr>\n",
       "      <th>5</th>\n",
       "      <td>1</td>\n",
       "      <td>ALPHABET CITY</td>\n",
       "      <td>7</td>\n",
       "      <td>2</td>\n",
       "      <td>372</td>\n",
       "      <td>23</td>\n",
       "      <td>C1</td>\n",
       "      <td>10009.0</td>\n",
       "      <td>12.0</td>\n",
       "      <td>0.0</td>\n",
       "      <td>12.0</td>\n",
       "      <td>2393.0</td>\n",
       "      <td>7989.0</td>\n",
       "      <td>2001.0</td>\n",
       "      <td>2</td>\n",
       "      <td>C1</td>\n",
       "      <td>1950000</td>\n",
       "      <td>2019-08-08 00:00:00</td>\n",
       "    </tr>\n",
       "    <tr>\n",
       "      <th>7</th>\n",
       "      <td>1</td>\n",
       "      <td>ALPHABET CITY</td>\n",
       "      <td>7</td>\n",
       "      <td>2A</td>\n",
       "      <td>376</td>\n",
       "      <td>23</td>\n",
       "      <td>C3</td>\n",
       "      <td>10009.0</td>\n",
       "      <td>4.0</td>\n",
       "      <td>0.0</td>\n",
       "      <td>4.0</td>\n",
       "      <td>2059.0</td>\n",
       "      <td>4154.0</td>\n",
       "      <td>1900.0</td>\n",
       "      <td>2</td>\n",
       "      <td>C3</td>\n",
       "      <td>600000</td>\n",
       "      <td>2019-12-12 00:00:00</td>\n",
       "    </tr>\n",
       "    <tr>\n",
       "      <th>8</th>\n",
       "      <td>1</td>\n",
       "      <td>ALPHABET CITY</td>\n",
       "      <td>7</td>\n",
       "      <td>2A</td>\n",
       "      <td>376</td>\n",
       "      <td>26</td>\n",
       "      <td>C3</td>\n",
       "      <td>10009.0</td>\n",
       "      <td>4.0</td>\n",
       "      <td>0.0</td>\n",
       "      <td>4.0</td>\n",
       "      <td>2065.0</td>\n",
       "      <td>3491.0</td>\n",
       "      <td>1900.0</td>\n",
       "      <td>2</td>\n",
       "      <td>C3</td>\n",
       "      <td>4350000</td>\n",
       "      <td>2019-10-31 00:00:00</td>\n",
       "    </tr>\n",
       "  </tbody>\n",
       "</table>\n",
       "</div>"
      ],
      "text/plain": [
       "   BOROUGH   NEIGHBORHOOD  BUILDING CLASS CATEGORY TAX CLASS AT PRESENT  \\\n",
       "0        1  ALPHABET CITY                        1                    1   \n",
       "3        1  ALPHABET CITY                        3                    1   \n",
       "5        1  ALPHABET CITY                        7                    2   \n",
       "7        1  ALPHABET CITY                        7                   2A   \n",
       "8        1  ALPHABET CITY                        7                   2A   \n",
       "\n",
       "   BLOCK  LOT BUILDING CLASS AT PRESENT  ZIP CODE  RESIDENTIAL UNITS  \\\n",
       "0    376   43                        S1   10009.0                1.0   \n",
       "3    377   56                        C0   10009.0                3.0   \n",
       "5    372   23                        C1   10009.0               12.0   \n",
       "7    376   23                        C3   10009.0                4.0   \n",
       "8    376   26                        C3   10009.0                4.0   \n",
       "\n",
       "   COMMERCIAL UNITS  TOTAL UNITS  LAND SQUARE FEET  GROSS SQUARE FEET  \\\n",
       "0               1.0          2.0            2090.0             3680.0   \n",
       "3               0.0          3.0            2430.0             3600.0   \n",
       "5               0.0         12.0            2393.0             7989.0   \n",
       "7               0.0          4.0            2059.0             4154.0   \n",
       "8               0.0          4.0            2065.0             3491.0   \n",
       "\n",
       "   YEAR BUILT  TAX CLASS AT TIME OF SALE BUILDING CLASS AT TIME OF SALE  \\\n",
       "0      1940.0                          1                             S1   \n",
       "3      1899.0                          1                             C0   \n",
       "5      2001.0                          2                             C1   \n",
       "7      1900.0                          2                             C3   \n",
       "8      1900.0                          2                             C3   \n",
       "\n",
       "   SALE PRICE            SALE DATE  \n",
       "0     3200000  2019-07-24 00:00:00  \n",
       "3     6300000  2019-04-30 00:00:00  \n",
       "5     1950000  2019-08-08 00:00:00  \n",
       "7      600000  2019-12-12 00:00:00  \n",
       "8     4350000  2019-10-31 00:00:00  "
      ]
     },
     "execution_count": 7,
     "metadata": {},
     "output_type": "execute_result"
    }
   ],
   "source": [
    "df.head()"
   ]
  },
  {
   "cell_type": "code",
   "execution_count": 8,
   "metadata": {},
   "outputs": [
    {
     "name": "stdout",
     "output_type": "stream",
     "text": [
      "<class 'pandas.core.frame.DataFrame'>\n",
      "Int64Index: 56741 entries, 0 to 81482\n",
      "Data columns (total 18 columns):\n",
      " #   Column                          Non-Null Count  Dtype  \n",
      "---  ------                          --------------  -----  \n",
      " 0   BOROUGH                         56741 non-null  int64  \n",
      " 1   NEIGHBORHOOD                    56741 non-null  object \n",
      " 2   BUILDING CLASS CATEGORY         56741 non-null  int64  \n",
      " 3   TAX CLASS AT PRESENT            56741 non-null  object \n",
      " 4   BLOCK                           56741 non-null  int64  \n",
      " 5   LOT                             56741 non-null  int64  \n",
      " 6   BUILDING CLASS AT PRESENT       56741 non-null  object \n",
      " 7   ZIP CODE                        56741 non-null  float64\n",
      " 8   RESIDENTIAL UNITS               56741 non-null  float64\n",
      " 9   COMMERCIAL UNITS                56741 non-null  float64\n",
      " 10  TOTAL UNITS                     56741 non-null  float64\n",
      " 11  LAND SQUARE FEET                56741 non-null  float64\n",
      " 12  GROSS SQUARE FEET               56741 non-null  float64\n",
      " 13  YEAR BUILT                      56741 non-null  float64\n",
      " 14  TAX CLASS AT TIME OF SALE       56741 non-null  int64  \n",
      " 15  BUILDING CLASS AT TIME OF SALE  56741 non-null  object \n",
      " 16  SALE PRICE                      56741 non-null  int64  \n",
      " 17  SALE DATE                       56741 non-null  object \n",
      "dtypes: float64(7), int64(6), object(5)\n",
      "memory usage: 8.2+ MB\n"
     ]
    }
   ],
   "source": [
    "df.info()"
   ]
  },
  {
   "cell_type": "markdown",
   "execution_count": null,
   "metadata": {},
   "source": [
    "# Random Forrest Regressor"
   ]
  },
  {
   "cell_type": "code",
   "execution_count": 9,
   "metadata": {},
   "outputs": [
    {
     "name": "stdout",
     "output_type": "stream",
     "text": [
      "Index(['BOROUGH', 'NEIGHBORHOOD', 'BUILDING CLASS CATEGORY',\n",
      "       'TAX CLASS AT PRESENT', 'BLOCK', 'LOT', 'BUILDING CLASS AT PRESENT',\n",
      "       'ZIP CODE', 'RESIDENTIAL UNITS', 'COMMERCIAL UNITS', 'TOTAL UNITS',\n",
      "       'LAND SQUARE FEET', 'GROSS SQUARE FEET', 'YEAR BUILT',\n",
      "       'TAX CLASS AT TIME OF SALE', 'BUILDING CLASS AT TIME OF SALE',\n",
      "       'SALE PRICE', 'SALE DATE'],\n",
      "      dtype='object')\n"
     ]
    }
   ],
   "source": [
    "print(df.columns)"
   ]
  },
  {
   "cell_type": "code",
   "execution_count": 10,
   "metadata": {},
   "outputs": [],
   "source": [
    "cat_names=['SALE DATE','BUILDING CLASS AT TIME OF SALE','ZIP CODE','BUILDING CLASS AT PRESENT','NEIGHBORHOOD']\n",
    "cont_names=['TAX CLASS AT TIME OF SALE','YEAR BUILT','GROSS SQUARE FEET','LAND SQUARE FEET',\n",
    "            'RESIDENTIAL UNITS', 'COMMERCIAL UNITS', 'TOTAL UNITS','BLOCK', 'LOT','TAX CLASS AT PRESENT','BOROUGH',  'BUILDING CLASS CATEGORY']\n",
    "target='SALE PRICE'"
   ]
  },
  {
   "cell_type": "markdown",
   "execution_count": null,
   "metadata": {},
   "source": [
    "## Baseline"
   ]
  },
  {
   "cell_type": "code",
   "execution_count": 11,
   "metadata": {},
   "outputs": [],
   "source": [
    "X_train ,X_test, y_train, y_test = train_test_split(df.drop(columns=['SALE PRICE','SALE DATE','NEIGHBORHOOD','TAX CLASS AT PRESENT','BUILDING CLASS AT PRESENT',\n",
    "                                                                     'BUILDING CLASS AT TIME OF SALE']),df['SALE PRICE'],test_size=0.2)"
   ]
  },
  {
   "cell_type": "code",
   "execution_count": 12,
   "metadata": {},
   "outputs": [
    {
     "data": {
      "text/plain": [
       "1173457.246346882"
      ]
     },
     "execution_count": 12,
     "metadata": {},
     "output_type": "execute_result"
    }
   ],
   "source": [
    "model_rf = RandomForestRegressor(random_state=0,n_jobs=4)\n",
    "model_rf.fit(X_train,y_train)\n",
    "predicted = model_rf.predict(X_test)\n",
    "mean_absolute_error(y_test,predicted)"
   ]
  },
  {
   "cell_type": "code",
   "execution_count": 13,
   "metadata": {},
   "outputs": [
    {
     "name": "stdout",
     "output_type": "stream",
     "text": [
      "Feature ranking:\n",
      "1. feature 2 (0.281490)\n",
      "2. feature 9 (0.201380)\n",
      "3. feature 3 (0.110341)\n",
      "4. feature 4 (0.100834)\n",
      "5. feature 8 (0.087557)\n",
      "6. feature 10 (0.069185)\n",
      "7. feature 6 (0.042251)\n",
      "8. feature 7 (0.041844)\n",
      "9. feature 1 (0.040229)\n",
      "10. feature 0 (0.009720)\n",
      "11. feature 11 (0.008345)\n",
      "12. feature 5 (0.006823)\n"
     ]
    },
    {
     "data": {
      "image/png": "[encoded data removed]",
      "text/plain": [
       "<Figure size 1080x504 with 1 Axes>"
      ]
     },
     "metadata": {
      "needs_background": "light"
     },
     "output_type": "display_data"
    },
    {
     "data": {
      "text/plain": [
       "<Figure size 432x288 with 0 Axes>"
      ]
     },
     "metadata": {},
     "output_type": "display_data"
    }
   ],
   "source": [
    "#Plotting feature importance of the numeric features\n",
    "importances = model_rf.feature_importances_\n",
    "std = np.std([tree.feature_importances_ for tree in model_rf.estimators_],\n",
    "             axis=0)\n",
    "indices = np.argsort(importances)[::-1]\n",
    "\n",
    "# Print the feature ranking\n",
    "print(\"Feature ranking:\")\n",
    "\n",
    "for f in range(X_train.shape[1]):\n",
    "    print(\"%d. feature %d (%f)\" % (f + 1, indices[f], importances[indices[f]]))\n",
    "\n",
    "# Plot the impurity-based feature importances of the forest\n",
    "plt.figure(figsize=(15,7))\n",
    "plt.title(\"Feature importance\")\n",
    "plt.bar(range(X_train.shape[1]), importances[indices],\n",
    "        color=\"r\", yerr=std[indices], align=\"center\")\n",
    "plt.xticks(range(X_train.shape[1]), indices)\n",
    "plt.xlim([-1, X_train.shape[1]])\n",
    "plt.xlabel('Feature')\n",
    "plt.ylabel('Importance')\n",
    "plt.show()\n",
    "plt.savefig('NumericalFeatures.png')"
   ]
  },
  {
   "cell_type": "markdown",
   "execution_count": null,
   "metadata": {},
   "source": [
    "\n",
    "|Feature ranking|Feature number|Feature name|\n",
    "|--------------|--------------|------------|\n",
    "|1             |2             |Block       |\n",
    "|2             |9             |Gross square feet|\n",
    "|3             |3             |Lot         |\n",
    "|4             |4             |Zipcode     |\n",
    "|5             |8             |Land square feet|\n",
    "|6             |10            |Year built|\n",
    "|7             |6             |Commerical units|\n",
    "|8             |7             |Total units|\n",
    "|9             |1             |Building Class Category|\n",
    "|10            |0             |Borough|\n",
    "|11            |11            |Tax class at time of sale|\n",
    "|12            |5             |Residential units| "
   ]
  },
  {
   "cell_type": "markdown",
   "execution_count": null,
   "metadata": {},
   "source": [
    "# Label Encoding"
   ]
  },
  {
   "cell_type": "code",
   "execution_count": 14,
   "metadata": {},
   "outputs": [],
   "source": [
    "\n",
    "# label encoder for each cat variable so 5\n",
    "neighborhood_encoder=LabelEncoder()\n",
    "tax_class_present_encoder=LabelEncoder()\n",
    "building_class_encoder=LabelEncoder()\n",
    "building_class_at_sale_encoder=LabelEncoder()\n",
    "sale_date_encode=LabelEncoder()\n",
    "df['NEIGHBORHOOD'] = neighborhood_encoder.fit_transform(df['NEIGHBORHOOD'])\n",
    "df['BUILDING CLASS AT TIME OF SALE']=building_class_at_sale_encoder.fit_transform(df['BUILDING CLASS AT TIME OF SALE'])\n",
    "df['TAX CLASS AT PRESENT']=tax_class_present_encoder.fit_transform(df['TAX CLASS AT PRESENT'].astype(str))\n",
    "df['BUILDING CLASS AT PRESENT']=building_class_encoder.fit_transform(df['BUILDING CLASS AT PRESENT'].astype(str))\n",
    "df['SALE DATE']=sale_date_encode.fit_transform(df['SALE DATE'])"
   ]
  },
  {
   "cell_type": "code",
   "execution_count": 15,
   "metadata": {},
   "outputs": [],
   "source": [
    "\n",
    "\n",
    "X_train, X_test, y_train, y_test = train_test_split(df.drop(columns=['SALE PRICE',]), df['SALE PRICE'], test_size=0.2)\n",
    "\n"
   ]
  },
  {
   "cell_type": "code",
   "execution_count": 16,
   "metadata": {},
   "outputs": [
    {
     "data": {
      "text/plain": [
       "1152266.7387596003"
      ]
     },
     "execution_count": 16,
     "metadata": {},
     "output_type": "execute_result"
    }
   ],
   "source": [
    "model_rf = RandomForestRegressor(random_state=0,n_jobs=4)\n",
    "model_rf.fit(X_train,y_train)\n",
    "predicted = model_rf.predict(X_test)\n",
    "mean_absolute_error(y_test,predicted)"
   ]
  },
  {
   "cell_type": "code",
   "execution_count": 17,
   "metadata": {},
   "outputs": [
    {
     "name": "stdout",
     "output_type": "stream",
     "text": [
      "Feature ranking:\n",
      "1. feature 4 (0.233278)\n",
      "2. feature 5 (0.209924)\n",
      "3. feature 16 (0.145600)\n",
      "4. feature 12 (0.101051)\n",
      "5. feature 7 (0.073133)\n",
      "6. feature 13 (0.067797)\n",
      "7. feature 11 (0.043133)\n",
      "8. feature 9 (0.023006)\n",
      "9. feature 1 (0.022404)\n",
      "10. feature 10 (0.019857)\n",
      "11. feature 2 (0.017563)\n",
      "12. feature 15 (0.012383)\n",
      "13. feature 8 (0.009258)\n",
      "14. feature 6 (0.008899)\n",
      "15. feature 14 (0.007283)\n",
      "16. feature 0 (0.003048)\n",
      "17. feature 3 (0.002383)\n"
     ]
    },
    {
     "data": {
      "image/png": "[encoded data removed]",
      "text/plain": [
       "<Figure size 1080x504 with 1 Axes>"
      ]
     },
     "metadata": {
      "needs_background": "light"
     },
     "output_type": "display_data"
    },
    {
     "data": {
      "text/plain": [
       "<Figure size 432x288 with 0 Axes>"
      ]
     },
     "metadata": {},
     "output_type": "display_data"
    }
   ],
   "source": [
    "#Plotting feature importance of the numeric features\n",
    "importances = model_rf.feature_importances_\n",
    "std = np.std([tree.feature_importances_ for tree in model_rf.estimators_],\n",
    "             axis=0)\n",
    "indices = np.argsort(importances)[::-1]\n",
    "\n",
    "# Print the feature ranking\n",
    "print(\"Feature ranking:\")\n",
    "\n",
    "for f in range(X_train.shape[1]):\n",
    "    print(\"%d. feature %d (%f)\" % (f + 1, indices[f], importances[indices[f]]))\n",
    "\n",
    "# Plot the impurity-based feature importances of the forest\n",
    "plt.figure(figsize=(15,7))\n",
    "plt.title(\"Feature importance\")\n",
    "plt.bar(range(X_train.shape[1]), importances[indices],\n",
    "        color=\"r\", yerr=std[indices], align=\"center\")\n",
    "plt.xticks(range(X_train.shape[1]), indices)\n",
    "plt.xlim([-1, X_train.shape[1]])\n",
    "plt.xlabel('Feature')\n",
    "plt.ylabel('Importance')\n",
    "plt.show()\n",
    "plt.savefig('AllFeatures.png')"
   ]
  },
  {
   "cell_type": "code",
   "execution_count": 18,
   "metadata": {},
   "outputs": [
    {
     "name": "stdout",
     "output_type": "stream",
     "text": [
      "<class 'pandas.core.frame.DataFrame'>\n",
      "Int64Index: 45392 entries, 68530 to 2571\n",
      "Data columns (total 17 columns):\n",
      " #   Column                          Non-Null Count  Dtype  \n",
      "---  ------                          --------------  -----  \n",
      " 0   BOROUGH                         45392 non-null  int64  \n",
      " 1   NEIGHBORHOOD                    45392 non-null  int64  \n",
      " 2   BUILDING CLASS CATEGORY         45392 non-null  int64  \n",
      " 3   TAX CLASS AT PRESENT            45392 non-null  int64  \n",
      " 4   BLOCK                           45392 non-null  int64  \n",
      " 5   LOT                             45392 non-null  int64  \n",
      " 6   BUILDING CLASS AT PRESENT       45392 non-null  int64  \n",
      " 7   ZIP CODE                        45392 non-null  float64\n",
      " 8   RESIDENTIAL UNITS               45392 non-null  float64\n",
      " 9   COMMERCIAL UNITS                45392 non-null  float64\n",
      " 10  TOTAL UNITS                     45392 non-null  float64\n",
      " 11  LAND SQUARE FEET                45392 non-null  float64\n",
      " 12  GROSS SQUARE FEET               45392 non-null  float64\n",
      " 13  YEAR BUILT                      45392 non-null  float64\n",
      " 14  TAX CLASS AT TIME OF SALE       45392 non-null  int64  \n",
      " 15  BUILDING CLASS AT TIME OF SALE  45392 non-null  int64  \n",
      " 16  SALE DATE                       45392 non-null  int64  \n",
      "dtypes: float64(7), int64(10)\n",
      "memory usage: 6.2 MB\n"
     ]
    }
   ],
   "source": [
    "X_train.info()"
   ]
  },
  {
   "cell_type": "markdown",
   "execution_count": null,
   "metadata": {},
   "source": [
    "|Feature ranking|Feature number|Feature name| \n",
    "|--------------|--------------|------------| \n",
    "|1             |4             |Block       | \n",
    "|2             |12             |Gross square feet|\n",
    "|3             |5             |Lot         | \n",
    "|4             |7             |Zipcode     |\n",
    "|5             |16            |Sale Date|\n",
    "|6             |11           |Land Square Feet|\n",
    "|7             |13             |Year Built|\n",
    "|8             |10             |Total units|\n",
    "|9             |1             |Neighborhood|\n",
    "|10            |2             |Building Class Category|\n",
    "|11            |9            |Commercial units|\n",
    "|12            |15             |Building class at time of sale|  \n",
    "|13            |6            |Building class at present|\n",
    "|14            | 0|Borough|\n",
    "|15            |8|Residential Units|\n",
    "|16            |14|Tax Class At Time of Sale|\n",
    "|17            |3| Tax Class At Present|\n",
    "\n",
    "\n"
   ]
  },
  {
   "cell_type": "markdown",
   "execution_count": null,
   "metadata": {},
   "source": [
    "# Using cross validation"
   ]
  },
  {
   "cell_type": "code",
   "execution_count": 19,
   "metadata": {},
   "outputs": [
    {
     "data": {
      "text/plain": [
       "[<matplotlib.lines.Line2D at 0x7ff0b6147950>]"
      ]
     },
     "execution_count": 19,
     "metadata": {},
     "output_type": "execute_result"
    },
    {
     "data": {
      "image/png": "[encoded data removed]",
      "text/plain": [
       "<Figure size 432x288 with 1 Axes>"
      ]
     },
     "metadata": {
      "needs_background": "light"
     },
     "output_type": "display_data"
    }
   ],
   "source": [
    " \n",
    "model_rf = RandomForestRegressor(random_state=0,n_jobs=4)\n",
    "#model_rf.fit(X_train,y_train)\n",
    "#predicted = model_rf.predict(X_train)\n",
    "#mean_absolute_error(y_train,predicted)\n",
    "error=[]\n",
    "split=[]\n",
    "for cv in range(2,10):\n",
    "    split.append(cv)\n",
    "    error.append(np.mean(cross_val_score(model_rf,X_train,y_train,cv=cv,scoring='neg_mean_absolute_error')))\n",
    "plt.plot(split,error)\n"
   ]
  },
  {
   "cell_type": "markdown",
   "execution_count": null,
   "metadata": {},
   "source": [
    "### Best cv at 7 folds gives roughly the same mae as the regular model"
   ]
  },
  {
   "cell_type": "code",
   "execution_count": 20,
   "metadata": {},
   "outputs": [
    {
     "data": {
      "text/plain": [
       "-1106003.3802109847"
      ]
     },
     "execution_count": 20,
     "metadata": {},
     "output_type": "execute_result"
    }
   ],
   "source": [
    "def smallest_error( list ):\n",
    "    max = list[ 0 ]\n",
    "    for a in list:\n",
    "        if a > max:\n",
    "            max = a\n",
    "    return max\n",
    "smallest_error(error)"
   ]
  },
  {
   "cell_type": "markdown",
   "execution_count": null,
   "metadata": {},
   "source": [
    "# Ordinary least squares"
   ]
  },
  {
   "cell_type": "code",
   "execution_count": 21,
   "metadata": {},
   "outputs": [
    {
     "data": {
      "text/html": [
       "<table class=\"simpletable\">\n",
       "<caption>OLS Regression Results</caption>\n",
       "<tr>\n",
       "  <th>Dep. Variable:</th>       <td>SALE PRICE</td>    <th>  R-squared:         </th>  <td>   0.084</td>  \n",
       "</tr>\n",
       "<tr>\n",
       "  <th>Model:</th>                   <td>OLS</td>       <th>  Adj. R-squared:    </th>  <td>   0.084</td>  \n",
       "</tr>\n",
       "<tr>\n",
       "  <th>Method:</th>             <td>Least Squares</td>  <th>  F-statistic:       </th>  <td>   244.3</td>  \n",
       "</tr>\n",
       "<tr>\n",
       "  <th>Date:</th>             <td>Fri, 05 Jun 2020</td> <th>  Prob (F-statistic):</th>   <td>  0.00</td>   \n",
       "</tr>\n",
       "<tr>\n",
       "  <th>Time:</th>                 <td>04:14:58</td>     <th>  Log-Likelihood:    </th> <td>-8.1682e+05</td>\n",
       "</tr>\n",
       "<tr>\n",
       "  <th>No. Observations:</th>      <td> 45392</td>      <th>  AIC:               </th>  <td>1.634e+06</td> \n",
       "</tr>\n",
       "<tr>\n",
       "  <th>Df Residuals:</th>          <td> 45374</td>      <th>  BIC:               </th>  <td>1.634e+06</td> \n",
       "</tr>\n",
       "<tr>\n",
       "  <th>Df Model:</th>              <td>    17</td>      <th>                     </th>      <td> </td>     \n",
       "</tr>\n",
       "<tr>\n",
       "  <th>Covariance Type:</th>      <td>nonrobust</td>    <th>                     </th>      <td> </td>     \n",
       "</tr>\n",
       "</table>\n",
       "<table class=\"simpletable\">\n",
       "<tr>\n",
       "                 <td></td>                   <th>coef</th>     <th>std err</th>      <th>t</th>      <th>P>|t|</th>  <th>[0.025</th>    <th>0.975]</th>  \n",
       "</tr>\n",
       "<tr>\n",
       "  <th>const</th>                          <td> 1.254e+07</td> <td> 1.93e+06</td> <td>    6.494</td> <td> 0.000</td> <td> 8.76e+06</td> <td> 1.63e+07</td>\n",
       "</tr>\n",
       "<tr>\n",
       "  <th>BOROUGH</th>                        <td>-6.097e+05</td> <td> 7.92e+04</td> <td>   -7.701</td> <td> 0.000</td> <td>-7.65e+05</td> <td>-4.55e+05</td>\n",
       "</tr>\n",
       "<tr>\n",
       "  <th>NEIGHBORHOOD</th>                   <td>-3533.3160</td> <td> 1056.455</td> <td>   -3.345</td> <td> 0.001</td> <td>-5603.984</td> <td>-1462.648</td>\n",
       "</tr>\n",
       "<tr>\n",
       "  <th>BUILDING CLASS CATEGORY</th>        <td> -5.91e+04</td> <td> 3.08e+04</td> <td>   -1.922</td> <td> 0.055</td> <td>-1.19e+05</td> <td> 1179.344</td>\n",
       "</tr>\n",
       "<tr>\n",
       "  <th>TAX CLASS AT PRESENT</th>           <td>-7.275e+05</td> <td> 8.92e+04</td> <td>   -8.155</td> <td> 0.000</td> <td>-9.02e+05</td> <td>-5.53e+05</td>\n",
       "</tr>\n",
       "<tr>\n",
       "  <th>BLOCK</th>                          <td>  -36.6064</td> <td>   26.092</td> <td>   -1.403</td> <td> 0.161</td> <td>  -87.747</td> <td>   14.534</td>\n",
       "</tr>\n",
       "<tr>\n",
       "  <th>LOT</th>                            <td> -735.4608</td> <td>  164.365</td> <td>   -4.475</td> <td> 0.000</td> <td>-1057.619</td> <td> -413.303</td>\n",
       "</tr>\n",
       "<tr>\n",
       "  <th>BUILDING CLASS AT PRESENT</th>      <td> 1.045e+04</td> <td> 1.13e+04</td> <td>    0.922</td> <td> 0.357</td> <td>-1.18e+04</td> <td> 3.27e+04</td>\n",
       "</tr>\n",
       "<tr>\n",
       "  <th>ZIP CODE</th>                       <td>-1017.9084</td> <td>  181.020</td> <td>   -5.623</td> <td> 0.000</td> <td>-1372.711</td> <td> -663.106</td>\n",
       "</tr>\n",
       "<tr>\n",
       "  <th>RESIDENTIAL UNITS</th>              <td> 2.215e+06</td> <td> 2.47e+05</td> <td>    8.950</td> <td> 0.000</td> <td> 1.73e+06</td> <td>  2.7e+06</td>\n",
       "</tr>\n",
       "<tr>\n",
       "  <th>COMMERCIAL UNITS</th>               <td> 1.994e+06</td> <td> 2.48e+05</td> <td>    8.026</td> <td> 0.000</td> <td> 1.51e+06</td> <td> 2.48e+06</td>\n",
       "</tr>\n",
       "<tr>\n",
       "  <th>TOTAL UNITS</th>                    <td>-1.984e+06</td> <td> 2.49e+05</td> <td>   -7.956</td> <td> 0.000</td> <td>-2.47e+06</td> <td> -1.5e+06</td>\n",
       "</tr>\n",
       "<tr>\n",
       "  <th>LAND SQUARE FEET</th>               <td>  -12.2703</td> <td>    0.624</td> <td>  -19.651</td> <td> 0.000</td> <td>  -13.494</td> <td>  -11.046</td>\n",
       "</tr>\n",
       "<tr>\n",
       "  <th>GROSS SQUARE FEET</th>              <td>   80.6443</td> <td>    3.040</td> <td>   26.529</td> <td> 0.000</td> <td>   74.686</td> <td>   86.602</td>\n",
       "</tr>\n",
       "<tr>\n",
       "  <th>YEAR BUILT</th>                     <td>-1758.1643</td> <td>  161.034</td> <td>  -10.918</td> <td> 0.000</td> <td>-2073.794</td> <td>-1442.534</td>\n",
       "</tr>\n",
       "<tr>\n",
       "  <th>TAX CLASS AT TIME OF SALE</th>      <td> 5.991e+06</td> <td> 4.66e+05</td> <td>   12.863</td> <td> 0.000</td> <td> 5.08e+06</td> <td>  6.9e+06</td>\n",
       "</tr>\n",
       "<tr>\n",
       "  <th>BUILDING CLASS AT TIME OF SALE</th> <td>-1.197e+04</td> <td>  1.1e+04</td> <td>   -1.089</td> <td> 0.276</td> <td>-3.35e+04</td> <td> 9570.359</td>\n",
       "</tr>\n",
       "<tr>\n",
       "  <th>SALE DATE</th>                      <td>  716.9346</td> <td>  764.512</td> <td>    0.938</td> <td> 0.348</td> <td> -781.520</td> <td> 2215.390</td>\n",
       "</tr>\n",
       "</table>\n",
       "<table class=\"simpletable\">\n",
       "<tr>\n",
       "  <th>Omnibus:</th>       <td>159031.418</td> <th>  Durbin-Watson:     </th>     <td>   2.000</td>    \n",
       "</tr>\n",
       "<tr>\n",
       "  <th>Prob(Omnibus):</th>   <td> 0.000</td>   <th>  Jarque-Bera (JB):  </th> <td>119355775722.616</td>\n",
       "</tr>\n",
       "<tr>\n",
       "  <th>Skew:</th>            <td>67.862</td>   <th>  Prob(JB):          </th>     <td>    0.00</td>    \n",
       "</tr>\n",
       "<tr>\n",
       "  <th>Kurtosis:</th>       <td>7945.812</td>  <th>  Cond. No.          </th>     <td>4.19e+06</td>    \n",
       "</tr>\n",
       "</table><br/><br/>Warnings:<br/>[1] Standard Errors assume that the covariance matrix of the errors is correctly specified.<br/>[2] The condition number is large, 4.19e+06. This might indicate that there are<br/>strong multicollinearity or other numerical problems."
      ],
      "text/plain": [
       "<class 'statsmodels.iolib.summary.Summary'>\n",
       "\"\"\"\n",
       "                            OLS Regression Results                            \n",
       "==============================================================================\n",
       "Dep. Variable:             SALE PRICE   R-squared:                       0.084\n",
       "Model:                            OLS   Adj. R-squared:                  0.084\n",
       "Method:                 Least Squares   F-statistic:                     244.3\n",
       "Date:                Fri, 05 Jun 2020   Prob (F-statistic):               0.00\n",
       "Time:                        04:14:58   Log-Likelihood:            -8.1682e+05\n",
       "No. Observations:               45392   AIC:                         1.634e+06\n",
       "Df Residuals:                   45374   BIC:                         1.634e+06\n",
       "Df Model:                          17                                         \n",
       "Covariance Type:            nonrobust                                         \n",
       "==================================================================================================\n",
       "                                     coef    std err          t      P>|t|      [0.025      0.975]\n",
       "--------------------------------------------------------------------------------------------------\n",
       "const                           1.254e+07   1.93e+06      6.494      0.000    8.76e+06    1.63e+07\n",
       "BOROUGH                        -6.097e+05   7.92e+04     -7.701      0.000   -7.65e+05   -4.55e+05\n",
       "NEIGHBORHOOD                   -3533.3160   1056.455     -3.345      0.001   -5603.984   -1462.648\n",
       "BUILDING CLASS CATEGORY         -5.91e+04   3.08e+04     -1.922      0.055   -1.19e+05    1179.344\n",
       "TAX CLASS AT PRESENT           -7.275e+05   8.92e+04     -8.155      0.000   -9.02e+05   -5.53e+05\n",
       "BLOCK                            -36.6064     26.092     -1.403      0.161     -87.747      14.534\n",
       "LOT                             -735.4608    164.365     -4.475      0.000   -1057.619    -413.303\n",
       "BUILDING CLASS AT PRESENT       1.045e+04   1.13e+04      0.922      0.357   -1.18e+04    3.27e+04\n",
       "ZIP CODE                       -1017.9084    181.020     -5.623      0.000   -1372.711    -663.106\n",
       "RESIDENTIAL UNITS               2.215e+06   2.47e+05      8.950      0.000    1.73e+06     2.7e+06\n",
       "COMMERCIAL UNITS                1.994e+06   2.48e+05      8.026      0.000    1.51e+06    2.48e+06\n",
       "TOTAL UNITS                    -1.984e+06   2.49e+05     -7.956      0.000   -2.47e+06    -1.5e+06\n",
       "LAND SQUARE FEET                 -12.2703      0.624    -19.651      0.000     -13.494     -11.046\n",
       "GROSS SQUARE FEET                 80.6443      3.040     26.529      0.000      74.686      86.602\n",
       "YEAR BUILT                     -1758.1643    161.034    -10.918      0.000   -2073.794   -1442.534\n",
       "TAX CLASS AT TIME OF SALE       5.991e+06   4.66e+05     12.863      0.000    5.08e+06     6.9e+06\n",
       "BUILDING CLASS AT TIME OF SALE -1.197e+04    1.1e+04     -1.089      0.276   -3.35e+04    9570.359\n",
       "SALE DATE                        716.9346    764.512      0.938      0.348    -781.520    2215.390\n",
       "==============================================================================\n",
       "Omnibus:                   159031.418   Durbin-Watson:                   2.000\n",
       "Prob(Omnibus):                  0.000   Jarque-Bera (JB):     119355775722.616\n",
       "Skew:                          67.862   Prob(JB):                         0.00\n",
       "Kurtosis:                    7945.812   Cond. No.                     4.19e+06\n",
       "==============================================================================\n",
       "\n",
       "Warnings:\n",
       "[1] Standard Errors assume that the covariance matrix of the errors is correctly specified.\n",
       "[2] The condition number is large, 4.19e+06. This might indicate that there are\n",
       "strong multicollinearity or other numerical problems.\n",
       "\"\"\""
      ]
     },
     "execution_count": 21,
     "metadata": {},
     "output_type": "execute_result"
    }
   ],
   "source": [
    "x_sm = sm.add_constant(X_train)\n",
    "model = sm.OLS(y_train,x_sm)\n",
    "model.fit().summary()"
   ]
  },
  {
   "cell_type": "markdown",
   "execution_count": null,
   "metadata": {},
   "source": [
    "### Model explains aorund 20% of the variation which is poor"
   ]
  },
  {
   "cell_type": "markdown",
   "execution_count": null,
   "metadata": {},
   "source": [
    "# Linear regressor"
   ]
  },
  {
   "cell_type": "markdown",
   "execution_count": null,
   "metadata": {},
   "source": [
    "## Baseline"
   ]
  },
  {
   "cell_type": "code",
   "execution_count": 22,
   "metadata": {},
   "outputs": [
    {
     "data": {
      "text/plain": [
       "2848067.390620902"
      ]
     },
     "execution_count": 22,
     "metadata": {},
     "output_type": "execute_result"
    }
   ],
   "source": [
    "model_lr= LinearRegression(n_jobs=4)\n",
    "model_lr.fit(X_train, y_train)\n",
    "prediction = model_lr.predict(X_test)\n",
    "mean_absolute_error(y_test,prediction)\n"
   ]
  },
  {
   "cell_type": "markdown",
   "execution_count": null,
   "metadata": {},
   "source": [
    "### MAE of 16.94 billion"
   ]
  },
  {
   "cell_type": "code",
   "execution_count": 23,
   "metadata": {},
   "outputs": [],
   "source": [
    "## Cross Validation"
   ]
  },
  {
   "cell_type": "code",
   "execution_count": 24,
   "metadata": {},
   "outputs": [
    {
     "data": {
      "text/plain": [
       "-2690375.9202600853"
      ]
     },
     "execution_count": 24,
     "metadata": {},
     "output_type": "execute_result"
    }
   ],
   "source": [
    "model_lr= LinearRegression(n_jobs=4)\n",
    "np.mean(cross_val_score(model_lr,X_train,y_train,cv=4,scoring='neg_mean_absolute_error'))"
   ]
  },
  {
   "cell_type": "markdown",
   "execution_count": null,
   "metadata": {},
   "source": [
    "### MAE of 5.47 billion"
   ]
  },
  {
   "cell_type": "markdown",
   "execution_count": null,
   "metadata": {},
   "source": [
    "# Lasso Regressor"
   ]
  },
  {
   "cell_type": "markdown",
   "execution_count": null,
   "metadata": {},
   "source": [
    "## Baseline"
   ]
  },
  {
   "cell_type": "code",
   "execution_count": 25,
   "metadata": {},
   "outputs": [
    {
     "name": "stderr",
     "output_type": "stream",
     "text": [
      "/opt/conda/lib/python3.7/site-packages/sklearn/linear_model/_coordinate_descent.py:476: ConvergenceWarning: Objective did not converge. You might want to increase the number of iterations. Duality gap: 5.671680057174185e+18, tolerance: 1237846316509457.8\n",
      "  positive)\n"
     ]
    },
    {
     "data": {
      "text/plain": [
       "2831662.891940589"
      ]
     },
     "execution_count": 25,
     "metadata": {},
     "output_type": "execute_result"
    }
   ],
   "source": [
    "model_lasso=Lasso()\n",
    "model_lasso.fit(X_train, y_train)\n",
    "prediction = model_lasso.predict(X_test)\n",
    "mean_absolute_error(y_test,prediction)"
   ]
  },
  {
   "cell_type": "markdown",
   "execution_count": null,
   "metadata": {},
   "source": [
    "## Cross validation"
   ]
  },
  {
   "cell_type": "code",
   "execution_count": 26,
   "metadata": {},
   "outputs": [
    {
     "name": "stderr",
     "output_type": "stream",
     "text": [
      "/opt/conda/lib/python3.7/site-packages/sklearn/linear_model/_coordinate_descent.py:476: ConvergenceWarning: Objective did not converge. You might want to increase the number of iterations. Duality gap: 5.671680057174185e+18, tolerance: 1237846316509457.8\n",
      "  positive)\n",
      "/opt/conda/lib/python3.7/site-packages/sklearn/linear_model/_coordinate_descent.py:476: ConvergenceWarning: Objective did not converge. You might want to increase the number of iterations. Duality gap: 5.153820275495525e+18, tolerance: 1118355090757095.9\n",
      "  positive)\n",
      "/opt/conda/lib/python3.7/site-packages/sklearn/linear_model/_coordinate_descent.py:476: ConvergenceWarning: Objective did not converge. You might want to increase the number of iterations. Duality gap: 5.370447946651337e+18, tolerance: 1159307897261520.5\n",
      "  positive)\n",
      "/opt/conda/lib/python3.7/site-packages/sklearn/linear_model/_coordinate_descent.py:476: ConvergenceWarning: Objective did not converge. You might want to increase the number of iterations. Duality gap: 2.488167404037306e+18, tolerance: 595214284641421.2\n",
      "  positive)\n",
      "/opt/conda/lib/python3.7/site-packages/sklearn/linear_model/_coordinate_descent.py:476: ConvergenceWarning: Objective did not converge. You might want to increase the number of iterations. Duality gap: 5.30625629929223e+18, tolerance: 1152604766553729.0\n",
      "  positive)\n",
      "/opt/conda/lib/python3.7/site-packages/sklearn/linear_model/_coordinate_descent.py:476: ConvergenceWarning: Objective did not converge. You might want to increase the number of iterations. Duality gap: 5.032402167079473e+18, tolerance: 1087499182274430.0\n",
      "  positive)\n",
      "/opt/conda/lib/python3.7/site-packages/sklearn/linear_model/_coordinate_descent.py:476: ConvergenceWarning: Objective did not converge. You might want to increase the number of iterations. Duality gap: 5.193279197559327e+18, tolerance: 1127475517387788.8\n",
      "  positive)\n",
      "/opt/conda/lib/python3.7/site-packages/sklearn/linear_model/_coordinate_descent.py:476: ConvergenceWarning: Objective did not converge. You might want to increase the number of iterations. Duality gap: 5.447670022791103e+18, tolerance: 1186592920400642.0\n",
      "  positive)\n"
     ]
    },
    {
     "data": {
      "text/plain": [
       "-2675018.2859891034"
      ]
     },
     "execution_count": 26,
     "metadata": {},
     "output_type": "execute_result"
    }
   ],
   "source": [
    "model_lasso=Lasso()\n",
    "model_lasso.fit(X_train, y_train)\n",
    "prediction = model_lasso.predict(X_test)\n",
    "np.mean(cross_val_score(model_lasso,X_train,y_train,cv=7,scoring='neg_mean_absolute_error'))"
   ]
  },
  {
   "cell_type": "markdown",
   "execution_count": null,
   "metadata": {},
   "source": [
    "## Cross validation while changing alpha"
   ]
  },
  {
   "cell_type": "code",
   "execution_count": 27,
   "metadata": {},
   "outputs": [
    {
     "name": "stderr",
     "output_type": "stream",
     "text": [
      "/opt/conda/lib/python3.7/site-packages/sklearn/linear_model/_coordinate_descent.py:476: ConvergenceWarning: Objective did not converge. You might want to increase the number of iterations. Duality gap: 2.011945212338694e+18, tolerance: 474882015285921.0\n",
      "  positive)\n",
      "/opt/conda/lib/python3.7/site-packages/sklearn/linear_model/_coordinate_descent.py:476: ConvergenceWarning: Objective did not converge. You might want to increase the number of iterations. Duality gap: 4.4067223512832896e+18, tolerance: 946573305262198.2\n",
      "  positive)\n",
      "/opt/conda/lib/python3.7/site-packages/sklearn/linear_model/_coordinate_descent.py:476: ConvergenceWarning: Objective did not converge. You might want to increase the number of iterations. Duality gap: 4.874465895634267e+18, tolerance: 1054195765746227.6\n",
      "  positive)\n",
      "/opt/conda/lib/python3.7/site-packages/sklearn/linear_model/_coordinate_descent.py:476: ConvergenceWarning: Objective did not converge. You might want to increase the number of iterations. Duality gap: 2.011945212338694e+18, tolerance: 474882015285921.0\n",
      "  positive)\n",
      "/opt/conda/lib/python3.7/site-packages/sklearn/linear_model/_coordinate_descent.py:476: ConvergenceWarning: Objective did not converge. You might want to increase the number of iterations. Duality gap: 4.4067223512832896e+18, tolerance: 946573305262198.2\n",
      "  positive)\n",
      "/opt/conda/lib/python3.7/site-packages/sklearn/linear_model/_coordinate_descent.py:476: ConvergenceWarning: Objective did not converge. You might want to increase the number of iterations. Duality gap: 4.874465895634267e+18, tolerance: 1054195765746227.6\n",
      "  positive)\n",
      "/opt/conda/lib/python3.7/site-packages/sklearn/linear_model/_coordinate_descent.py:476: ConvergenceWarning: Objective did not converge. You might want to increase the number of iterations. Duality gap: 2.011945212338694e+18, tolerance: 474882015285921.0\n",
      "  positive)\n",
      "/opt/conda/lib/python3.7/site-packages/sklearn/linear_model/_coordinate_descent.py:476: ConvergenceWarning: Objective did not converge. You might want to increase the number of iterations. Duality gap: 4.4067223512832896e+18, tolerance: 946573305262198.2\n",
      "  positive)\n",
      "/opt/conda/lib/python3.7/site-packages/sklearn/linear_model/_coordinate_descent.py:476: ConvergenceWarning: Objective did not converge. You might want to increase the number of iterations. Duality gap: 4.874465895634267e+18, tolerance: 1054195765746227.6\n",
      "  positive)\n",
      "/opt/conda/lib/python3.7/site-packages/sklearn/linear_model/_coordinate_descent.py:476: ConvergenceWarning: Objective did not converge. You might want to increase the number of iterations. Duality gap: 2.011945212338694e+18, tolerance: 474882015285921.0\n",
      "  positive)\n",
      "/opt/conda/lib/python3.7/site-packages/sklearn/linear_model/_coordinate_descent.py:476: ConvergenceWarning: Objective did not converge. You might want to increase the number of iterations. Duality gap: 4.4067223512832896e+18, tolerance: 946573305262198.2\n",
      "  positive)\n",
      "/opt/conda/lib/python3.7/site-packages/sklearn/linear_model/_coordinate_descent.py:476: ConvergenceWarning: Objective did not converge. You might want to increase the number of iterations. Duality gap: 4.874465895634267e+18, tolerance: 1054195765746227.6\n",
      "  positive)\n"
     ]
    },
    {
     "data": {
      "text/plain": [
       "[<matplotlib.lines.Line2D at 0x7ff0b47abb50>]"
      ]
     },
     "execution_count": 27,
     "metadata": {},
     "output_type": "execute_result"
    },
    {
     "data": {
      "image/png": "[encoded data removed]",
      "text/plain": [
       "<Figure size 432x288 with 1 Axes>"
      ]
     },
     "metadata": {
      "needs_background": "light"
     },
     "output_type": "display_data"
    }
   ],
   "source": [
    "model_lasso=Lasso()\n",
    "alpha=[]\n",
    "error =[]\n",
    "\n",
    "for i in range(1,100, 25):\n",
    "    alpha.append(i/100)\n",
    "    model_las=Lasso(alpha=(i/100))\n",
    "    error.append(np.mean(cross_val_score(model_lasso,X_train,y_train,cv=3,scoring='neg_mean_absolute_error')))\n",
    "plt.plot(alpha,error)"
   ]
  },
  {
   "cell_type": "code",
   "execution_count": 28,
   "metadata": {},
   "outputs": [],
   "source": [
    "### Alpha doesnt affect mean cross validation socre, perhaps the model is not the right choice"
   ]
  },
  {
   "cell_type": "markdown",
   "execution_count": null,
   "metadata": {},
   "source": [
    "# Ridge Regressor"
   ]
  },
  {
   "cell_type": "markdown",
   "execution_count": null,
   "metadata": {},
   "source": [
    "## Baseline"
   ]
  },
  {
   "cell_type": "code",
   "execution_count": 29,
   "metadata": {},
   "outputs": [
    {
     "data": {
      "text/plain": [
       "2581448.0187913175"
      ]
     },
     "execution_count": 29,
     "metadata": {},
     "output_type": "execute_result"
    }
   ],
   "source": [
    "\n",
    "model_rdg = Ridge(alpha=1, normalize=True)\n",
    "model_rdg.fit(X_train, y_train)\n",
    "prediction = model_rdg.predict(X_test)\n",
    "mean_absolute_error(y_test,prediction)"
   ]
  },
  {
   "cell_type": "markdown",
   "execution_count": null,
   "metadata": {},
   "source": [
    "## Cross validation"
   ]
  },
  {
   "cell_type": "code",
   "execution_count": 30,
   "metadata": {},
   "outputs": [
    {
     "data": {
      "text/plain": [
       "[<matplotlib.lines.Line2D at 0x7ff0b479e510>]"
      ]
     },
     "execution_count": 30,
     "metadata": {},
     "output_type": "execute_result"
    },
    {
     "data": {
      "image/png": "[encoded data removed]",
      "text/plain": [
       "<Figure size 432x288 with 1 Axes>"
      ]
     },
     "metadata": {
      "needs_background": "light"
     },
     "output_type": "display_data"
    }
   ],
   "source": [
    "error=[]\n",
    "alpha=[]\n",
    "\n",
    "for i in range(1,200,25):\n",
    "    model_rdg = Ridge(alpha=(i/100), normalize=True)\n",
    "    alpha.append(i/100)\n",
    "    error.append(np.mean(cross_val_score(model_rdg,X_train,y_train,cv=4,scoring='neg_mean_absolute_error')))\n",
    "plt.plot(alpha,error)"
   ]
  },
  {
   "cell_type": "markdown",
   "execution_count": null,
   "metadata": {},
   "source": [
    "# XGBoost"
   ]
  },
  {
   "cell_type": "markdown",
   "execution_count": null,
   "metadata": {},
   "source": [
    "## Baseline"
   ]
  },
  {
   "cell_type": "code",
   "execution_count": 31,
   "metadata": {},
   "outputs": [
    {
     "data": {
      "text/plain": [
       "1316206.2956399699"
      ]
     },
     "execution_count": 31,
     "metadata": {},
     "output_type": "execute_result"
    }
   ],
   "source": [
    "model_xgb = XGBRegressor(n_jobs=4)\n",
    "model_xgb.fit(X_train, y_train)\n",
    "prediction = model_xgb.predict(X_test)\n",
    "mean_absolute_error(y_test,prediction)"
   ]
  },
  {
   "cell_type": "markdown",
   "execution_count": null,
   "metadata": {},
   "source": [
    "## Tuning"
   ]
  },
  {
   "cell_type": "markdown",
   "execution_count": null,
   "metadata": {},
   "source": [
    "### Learning Rate"
   ]
  },
  {
   "cell_type": "code",
   "execution_count": 32,
   "metadata": {},
   "outputs": [
    {
     "name": "stdout",
     "output_type": "stream",
     "text": [
      "[0]\tvalidation_0-rmse:14952635.00000\n",
      "Will train until validation_0-rmse hasn't improved in 5 rounds.\n",
      "[1]\tvalidation_0-rmse:14897472.00000\n",
      "[2]\tvalidation_0-rmse:14845529.00000\n",
      "[3]\tvalidation_0-rmse:14798035.00000\n",
      "[4]\tvalidation_0-rmse:14750707.00000\n",
      "[5]\tvalidation_0-rmse:14704986.00000\n",
      "[6]\tvalidation_0-rmse:14655164.00000\n",
      "[7]\tvalidation_0-rmse:14611936.00000\n",
      "[8]\tvalidation_0-rmse:14568377.00000\n",
      "[9]\tvalidation_0-rmse:14526814.00000\n",
      "[10]\tvalidation_0-rmse:14485928.00000\n",
      "[11]\tvalidation_0-rmse:14445171.00000\n",
      "[12]\tvalidation_0-rmse:14406259.00000\n",
      "[13]\tvalidation_0-rmse:14367094.00000\n",
      "[14]\tvalidation_0-rmse:14328048.00000\n",
      "[15]\tvalidation_0-rmse:14293619.00000\n",
      "[16]\tvalidation_0-rmse:14257402.00000\n",
      "[17]\tvalidation_0-rmse:14222998.00000\n",
      "[18]\tvalidation_0-rmse:14188369.00000\n",
      "[19]\tvalidation_0-rmse:14157151.00000\n",
      "[20]\tvalidation_0-rmse:14123946.00000\n",
      "[21]\tvalidation_0-rmse:14079705.00000\n",
      "[22]\tvalidation_0-rmse:14041915.00000\n",
      "[23]\tvalidation_0-rmse:14005987.00000\n",
      "[24]\tvalidation_0-rmse:13970647.00000\n",
      "[25]\tvalidation_0-rmse:13938557.00000\n",
      "[26]\tvalidation_0-rmse:13905266.00000\n",
      "[27]\tvalidation_0-rmse:13874555.00000\n",
      "[28]\tvalidation_0-rmse:13845109.00000\n",
      "[29]\tvalidation_0-rmse:13814098.00000\n",
      "[30]\tvalidation_0-rmse:13786165.00000\n",
      "[31]\tvalidation_0-rmse:13758980.00000\n",
      "[32]\tvalidation_0-rmse:13736094.00000\n",
      "[33]\tvalidation_0-rmse:13711905.00000\n",
      "[34]\tvalidation_0-rmse:13690417.00000\n",
      "[35]\tvalidation_0-rmse:13669572.00000\n",
      "[36]\tvalidation_0-rmse:13644881.00000\n",
      "[37]\tvalidation_0-rmse:13624574.00000\n",
      "[38]\tvalidation_0-rmse:13604605.00000\n",
      "[39]\tvalidation_0-rmse:13581258.00000\n",
      "[40]\tvalidation_0-rmse:13563327.00000\n",
      "[41]\tvalidation_0-rmse:13546058.00000\n",
      "[42]\tvalidation_0-rmse:13529003.00000\n",
      "[43]\tvalidation_0-rmse:13509429.00000\n",
      "[44]\tvalidation_0-rmse:13493526.00000\n",
      "[45]\tvalidation_0-rmse:13475056.00000\n",
      "[46]\tvalidation_0-rmse:13460456.00000\n",
      "[47]\tvalidation_0-rmse:13443215.00000\n",
      "[48]\tvalidation_0-rmse:13429820.00000\n",
      "[49]\tvalidation_0-rmse:13416817.00000\n",
      "[50]\tvalidation_0-rmse:13401220.00000\n",
      "[51]\tvalidation_0-rmse:13390626.00000\n",
      "[52]\tvalidation_0-rmse:13382199.00000\n",
      "[53]\tvalidation_0-rmse:13372802.00000\n",
      "[54]\tvalidation_0-rmse:13362810.00000\n",
      "[55]\tvalidation_0-rmse:13354051.00000\n",
      "[56]\tvalidation_0-rmse:13341873.00000\n",
      "[57]\tvalidation_0-rmse:13334189.00000\n",
      "[58]\tvalidation_0-rmse:13326376.00000\n",
      "[59]\tvalidation_0-rmse:13315945.00000\n",
      "[60]\tvalidation_0-rmse:13308686.00000\n",
      "[61]\tvalidation_0-rmse:13302258.00000\n",
      "[62]\tvalidation_0-rmse:13296447.00000\n",
      "[63]\tvalidation_0-rmse:13290310.00000\n",
      "[64]\tvalidation_0-rmse:13283698.00000\n",
      "[65]\tvalidation_0-rmse:13275762.00000\n",
      "[66]\tvalidation_0-rmse:13271500.00000\n",
      "[67]\tvalidation_0-rmse:13267860.00000\n",
      "[68]\tvalidation_0-rmse:13264503.00000\n",
      "[69]\tvalidation_0-rmse:13242887.00000\n",
      "[70]\tvalidation_0-rmse:13222069.00000\n",
      "[71]\tvalidation_0-rmse:13201196.00000\n",
      "[72]\tvalidation_0-rmse:13180622.00000\n",
      "[73]\tvalidation_0-rmse:13160613.00000\n",
      "[74]\tvalidation_0-rmse:13141558.00000\n",
      "[75]\tvalidation_0-rmse:13123967.00000\n",
      "[76]\tvalidation_0-rmse:13105304.00000\n",
      "[77]\tvalidation_0-rmse:13088781.00000\n",
      "[78]\tvalidation_0-rmse:13071899.00000\n",
      "[79]\tvalidation_0-rmse:13054223.00000\n",
      "[80]\tvalidation_0-rmse:13038085.00000\n",
      "[81]\tvalidation_0-rmse:13022371.00000\n",
      "[82]\tvalidation_0-rmse:13005584.00000\n",
      "[83]\tvalidation_0-rmse:12991613.00000\n",
      "[84]\tvalidation_0-rmse:12975905.00000\n",
      "[85]\tvalidation_0-rmse:12962357.00000\n",
      "[86]\tvalidation_0-rmse:12948156.00000\n",
      "[87]\tvalidation_0-rmse:12933061.00000\n",
      "[88]\tvalidation_0-rmse:12920314.00000\n",
      "[89]\tvalidation_0-rmse:12906902.00000\n",
      "[90]\tvalidation_0-rmse:12894045.00000\n",
      "[91]\tvalidation_0-rmse:12899487.00000\n",
      "[92]\tvalidation_0-rmse:12905333.00000\n",
      "[93]\tvalidation_0-rmse:12898292.00000\n",
      "[94]\tvalidation_0-rmse:12905041.00000\n",
      "[95]\tvalidation_0-rmse:12898667.00000\n",
      "Stopping. Best iteration:\n",
      "[90]\tvalidation_0-rmse:12894045.00000\n",
      "\n",
      "[0]\tvalidation_0-rmse:14898968.00000\n",
      "Will train until validation_0-rmse hasn't improved in 5 rounds.\n",
      "[1]\tvalidation_0-rmse:14791885.00000\n",
      "[2]\tvalidation_0-rmse:14699134.00000\n",
      "[3]\tvalidation_0-rmse:14608848.00000\n",
      "[4]\tvalidation_0-rmse:14524696.00000\n",
      "[5]\tvalidation_0-rmse:14443558.00000\n",
      "[6]\tvalidation_0-rmse:14366225.00000\n",
      "[7]\tvalidation_0-rmse:14296428.00000\n",
      "[8]\tvalidation_0-rmse:14222467.00000\n",
      "[9]\tvalidation_0-rmse:14152456.00000\n",
      "[10]\tvalidation_0-rmse:14086584.00000\n",
      "[11]\tvalidation_0-rmse:14011922.00000\n",
      "[12]\tvalidation_0-rmse:13957739.00000\n",
      "[13]\tvalidation_0-rmse:13891614.00000\n",
      "[14]\tvalidation_0-rmse:13833120.00000\n",
      "[15]\tvalidation_0-rmse:13773173.00000\n",
      "[16]\tvalidation_0-rmse:13721860.00000\n",
      "[17]\tvalidation_0-rmse:13679208.00000\n",
      "[18]\tvalidation_0-rmse:13634859.00000\n",
      "[19]\tvalidation_0-rmse:13587268.00000\n",
      "[20]\tvalidation_0-rmse:13544378.00000\n",
      "[21]\tvalidation_0-rmse:13511261.00000\n",
      "[22]\tvalidation_0-rmse:13480482.00000\n",
      "[23]\tvalidation_0-rmse:13451532.00000\n",
      "[24]\tvalidation_0-rmse:13418517.00000\n",
      "[25]\tvalidation_0-rmse:13394943.00000\n",
      "[26]\tvalidation_0-rmse:13369175.00000\n",
      "[27]\tvalidation_0-rmse:13351704.00000\n",
      "[28]\tvalidation_0-rmse:13339533.00000\n",
      "[29]\tvalidation_0-rmse:13324155.00000\n",
      "[30]\tvalidation_0-rmse:13311007.00000\n",
      "[31]\tvalidation_0-rmse:13298949.00000\n",
      "[32]\tvalidation_0-rmse:13289032.00000\n",
      "[33]\tvalidation_0-rmse:13280457.00000\n",
      "[34]\tvalidation_0-rmse:13233704.00000\n",
      "[35]\tvalidation_0-rmse:13191963.00000\n",
      "[36]\tvalidation_0-rmse:13152515.00000\n",
      "[37]\tvalidation_0-rmse:13115980.00000\n",
      "[38]\tvalidation_0-rmse:13082017.00000\n",
      "[39]\tvalidation_0-rmse:13046600.00000\n",
      "[40]\tvalidation_0-rmse:13014968.00000\n",
      "[41]\tvalidation_0-rmse:12983193.00000\n",
      "[42]\tvalidation_0-rmse:12954729.00000\n",
      "[43]\tvalidation_0-rmse:12927555.00000\n",
      "[44]\tvalidation_0-rmse:12905138.00000\n",
      "[45]\tvalidation_0-rmse:12888668.00000\n",
      "[46]\tvalidation_0-rmse:12863010.00000\n",
      "[47]\tvalidation_0-rmse:12849745.00000\n",
      "[48]\tvalidation_0-rmse:12839107.00000\n",
      "[49]\tvalidation_0-rmse:12829226.00000\n",
      "[50]\tvalidation_0-rmse:12811011.00000\n",
      "[51]\tvalidation_0-rmse:12794285.00000\n",
      "[52]\tvalidation_0-rmse:12779000.00000\n",
      "[53]\tvalidation_0-rmse:12765106.00000\n",
      "[54]\tvalidation_0-rmse:12752006.00000\n",
      "[55]\tvalidation_0-rmse:12741503.00000\n",
      "[56]\tvalidation_0-rmse:12731063.00000\n",
      "[57]\tvalidation_0-rmse:12722810.00000\n",
      "[58]\tvalidation_0-rmse:12732250.00000\n",
      "[59]\tvalidation_0-rmse:12722541.00000\n",
      "[60]\tvalidation_0-rmse:12730678.00000\n",
      "[61]\tvalidation_0-rmse:12725345.00000\n",
      "[62]\tvalidation_0-rmse:12721124.00000\n",
      "[63]\tvalidation_0-rmse:12715339.00000\n",
      "[64]\tvalidation_0-rmse:12721620.00000\n",
      "[65]\tvalidation_0-rmse:12718065.00000\n",
      "[66]\tvalidation_0-rmse:12724497.00000\n",
      "[67]\tvalidation_0-rmse:12723612.00000\n",
      "[68]\tvalidation_0-rmse:12731775.00000\n",
      "Stopping. Best iteration:\n",
      "[63]\tvalidation_0-rmse:12715339.00000\n",
      "\n",
      "[0]\tvalidation_0-rmse:14846065.00000\n",
      "Will train until validation_0-rmse hasn't improved in 5 rounds.\n",
      "[1]\tvalidation_0-rmse:14705188.00000\n",
      "[2]\tvalidation_0-rmse:14557459.00000\n",
      "[3]\tvalidation_0-rmse:14435619.00000\n",
      "[4]\tvalidation_0-rmse:14325731.00000\n",
      "[5]\tvalidation_0-rmse:14224370.00000\n",
      "[6]\tvalidation_0-rmse:14118307.00000\n",
      "[7]\tvalidation_0-rmse:14004841.00000\n",
      "[8]\tvalidation_0-rmse:13913343.00000\n",
      "[9]\tvalidation_0-rmse:13818291.00000\n",
      "[10]\tvalidation_0-rmse:13735942.00000\n",
      "[11]\tvalidation_0-rmse:13662407.00000\n",
      "[12]\tvalidation_0-rmse:13598280.00000\n",
      "[13]\tvalidation_0-rmse:13545081.00000\n",
      "[14]\tvalidation_0-rmse:13497013.00000\n",
      "[15]\tvalidation_0-rmse:13441618.00000\n",
      "[16]\tvalidation_0-rmse:13403523.00000\n",
      "[17]\tvalidation_0-rmse:13374514.00000\n",
      "[18]\tvalidation_0-rmse:13339162.00000\n",
      "[19]\tvalidation_0-rmse:13317727.00000\n",
      "[20]\tvalidation_0-rmse:13306335.00000\n",
      "[21]\tvalidation_0-rmse:13290880.00000\n",
      "[22]\tvalidation_0-rmse:13274713.00000\n",
      "[23]\tvalidation_0-rmse:13210720.00000\n",
      "[24]\tvalidation_0-rmse:13151829.00000\n",
      "[25]\tvalidation_0-rmse:13095458.00000\n",
      "[26]\tvalidation_0-rmse:13045427.00000\n",
      "[27]\tvalidation_0-rmse:13000378.00000\n",
      "[28]\tvalidation_0-rmse:12955002.00000\n",
      "[29]\tvalidation_0-rmse:12915893.00000\n",
      "[30]\tvalidation_0-rmse:12883351.00000\n",
      "[31]\tvalidation_0-rmse:12863353.00000\n",
      "[32]\tvalidation_0-rmse:12848278.00000\n",
      "[33]\tvalidation_0-rmse:12836599.00000\n",
      "[34]\tvalidation_0-rmse:12810781.00000\n",
      "[35]\tvalidation_0-rmse:12786019.00000\n",
      "[36]\tvalidation_0-rmse:12767222.00000\n",
      "[37]\tvalidation_0-rmse:12751015.00000\n",
      "[38]\tvalidation_0-rmse:12733768.00000\n",
      "[39]\tvalidation_0-rmse:12721990.00000\n",
      "[40]\tvalidation_0-rmse:12712972.00000\n",
      "[41]\tvalidation_0-rmse:12703325.00000\n",
      "[42]\tvalidation_0-rmse:12720733.00000\n",
      "[43]\tvalidation_0-rmse:12718152.00000\n",
      "[44]\tvalidation_0-rmse:12712220.00000\n",
      "[45]\tvalidation_0-rmse:12723143.00000\n",
      "[46]\tvalidation_0-rmse:12723979.00000\n",
      "Stopping. Best iteration:\n",
      "[41]\tvalidation_0-rmse:12703325.00000\n",
      "\n",
      "[0]\tvalidation_0-rmse:14793926.00000\n",
      "Will train until validation_0-rmse hasn't improved in 5 rounds.\n",
      "[1]\tvalidation_0-rmse:14610634.00000\n",
      "[2]\tvalidation_0-rmse:14423374.00000\n",
      "[3]\tvalidation_0-rmse:14272103.00000\n",
      "[4]\tvalidation_0-rmse:14138986.00000\n",
      "[5]\tvalidation_0-rmse:14010902.00000\n",
      "[6]\tvalidation_0-rmse:13872925.00000\n",
      "[7]\tvalidation_0-rmse:13756740.00000\n",
      "[8]\tvalidation_0-rmse:13673200.00000\n",
      "[9]\tvalidation_0-rmse:13575957.00000\n",
      "[10]\tvalidation_0-rmse:13488372.00000\n",
      "[11]\tvalidation_0-rmse:13438871.00000\n",
      "[12]\tvalidation_0-rmse:13390408.00000\n",
      "[13]\tvalidation_0-rmse:13351147.00000\n",
      "[14]\tvalidation_0-rmse:13318782.00000\n",
      "[15]\tvalidation_0-rmse:13282708.00000\n",
      "[16]\tvalidation_0-rmse:13263139.00000\n",
      "[17]\tvalidation_0-rmse:13176784.00000\n",
      "[18]\tvalidation_0-rmse:13096934.00000\n",
      "[19]\tvalidation_0-rmse:13029981.00000\n",
      "[20]\tvalidation_0-rmse:12962600.00000\n",
      "[21]\tvalidation_0-rmse:12926770.00000\n",
      "[22]\tvalidation_0-rmse:12873729.00000\n",
      "[23]\tvalidation_0-rmse:12901059.00000\n",
      "[24]\tvalidation_0-rmse:12878992.00000\n",
      "[25]\tvalidation_0-rmse:12842753.00000\n",
      "[26]\tvalidation_0-rmse:12807240.00000\n",
      "[27]\tvalidation_0-rmse:12782077.00000\n",
      "[28]\tvalidation_0-rmse:12776865.00000\n",
      "[29]\tvalidation_0-rmse:12760760.00000\n",
      "[30]\tvalidation_0-rmse:12741614.00000\n",
      "[31]\tvalidation_0-rmse:12730838.00000\n",
      "[32]\tvalidation_0-rmse:12721683.00000\n",
      "[33]\tvalidation_0-rmse:12736535.00000\n",
      "[34]\tvalidation_0-rmse:12753984.00000\n",
      "[35]\tvalidation_0-rmse:12752539.00000\n",
      "[36]\tvalidation_0-rmse:12774992.00000\n",
      "[37]\tvalidation_0-rmse:12762984.00000\n",
      "Stopping. Best iteration:\n",
      "[32]\tvalidation_0-rmse:12721683.00000\n",
      "\n",
      "[0]\tvalidation_0-rmse:14742545.00000\n",
      "Will train until validation_0-rmse hasn't improved in 5 rounds.\n",
      "[1]\tvalidation_0-rmse:14519087.00000\n",
      "[2]\tvalidation_0-rmse:14331492.00000\n",
      "[3]\tvalidation_0-rmse:14148651.00000\n",
      "[4]\tvalidation_0-rmse:13984248.00000\n",
      "[5]\tvalidation_0-rmse:13819504.00000\n",
      "[6]\tvalidation_0-rmse:13676660.00000\n",
      "[7]\tvalidation_0-rmse:13586089.00000\n",
      "[8]\tvalidation_0-rmse:13483837.00000\n",
      "[9]\tvalidation_0-rmse:13416484.00000\n",
      "[10]\tvalidation_0-rmse:13363131.00000\n",
      "[11]\tvalidation_0-rmse:13314461.00000\n",
      "[12]\tvalidation_0-rmse:13273670.00000\n",
      "[13]\tvalidation_0-rmse:13254047.00000\n",
      "[14]\tvalidation_0-rmse:13153958.00000\n",
      "[15]\tvalidation_0-rmse:13061881.00000\n",
      "[16]\tvalidation_0-rmse:12987029.00000\n",
      "[17]\tvalidation_0-rmse:12918675.00000\n",
      "[18]\tvalidation_0-rmse:12853712.00000\n",
      "[19]\tvalidation_0-rmse:12825570.00000\n",
      "[20]\tvalidation_0-rmse:12806530.00000\n",
      "[21]\tvalidation_0-rmse:12797677.00000\n",
      "[22]\tvalidation_0-rmse:12768861.00000\n",
      "[23]\tvalidation_0-rmse:12746392.00000\n",
      "[24]\tvalidation_0-rmse:12731836.00000\n",
      "[25]\tvalidation_0-rmse:12716271.00000\n",
      "[26]\tvalidation_0-rmse:12737280.00000\n",
      "[27]\tvalidation_0-rmse:12741095.00000\n",
      "[28]\tvalidation_0-rmse:12769449.00000\n",
      "[29]\tvalidation_0-rmse:12805946.00000\n",
      "[30]\tvalidation_0-rmse:12841591.00000\n",
      "Stopping. Best iteration:\n",
      "[25]\tvalidation_0-rmse:12716271.00000\n",
      "\n",
      "[0]\tvalidation_0-rmse:14691949.00000\n",
      "Will train until validation_0-rmse hasn't improved in 5 rounds.\n",
      "[1]\tvalidation_0-rmse:14430545.00000\n",
      "[2]\tvalidation_0-rmse:14217628.00000\n",
      "[3]\tvalidation_0-rmse:13984737.00000\n",
      "[4]\tvalidation_0-rmse:13820726.00000\n",
      "[5]\tvalidation_0-rmse:13696599.00000\n",
      "[6]\tvalidation_0-rmse:13550599.00000\n",
      "[7]\tvalidation_0-rmse:13438547.00000\n",
      "[8]\tvalidation_0-rmse:13333310.00000\n",
      "[9]\tvalidation_0-rmse:13276189.00000\n",
      "[10]\tvalidation_0-rmse:13237378.00000\n",
      "[11]\tvalidation_0-rmse:13101507.00000\n",
      "[12]\tvalidation_0-rmse:12984441.00000\n",
      "[13]\tvalidation_0-rmse:12886421.00000\n",
      "[14]\tvalidation_0-rmse:12800201.00000\n",
      "[15]\tvalidation_0-rmse:12744494.00000\n",
      "[16]\tvalidation_0-rmse:12693456.00000\n",
      "[17]\tvalidation_0-rmse:12642326.00000\n",
      "[18]\tvalidation_0-rmse:12600093.00000\n",
      "[19]\tvalidation_0-rmse:12568075.00000\n",
      "[20]\tvalidation_0-rmse:12547939.00000\n",
      "[21]\tvalidation_0-rmse:12531010.00000\n",
      "[22]\tvalidation_0-rmse:12543720.00000\n",
      "[23]\tvalidation_0-rmse:12607328.00000\n",
      "[24]\tvalidation_0-rmse:12590449.00000\n",
      "[25]\tvalidation_0-rmse:12630155.00000\n",
      "[26]\tvalidation_0-rmse:12668427.00000\n",
      "Stopping. Best iteration:\n",
      "[21]\tvalidation_0-rmse:12531010.00000\n",
      "\n",
      "[0]\tvalidation_0-rmse:14642145.00000\n",
      "Will train until validation_0-rmse hasn't improved in 5 rounds.\n",
      "[1]\tvalidation_0-rmse:14350379.00000\n",
      "[2]\tvalidation_0-rmse:14116329.00000\n",
      "[3]\tvalidation_0-rmse:13864283.00000\n",
      "[4]\tvalidation_0-rmse:13691863.00000\n",
      "[5]\tvalidation_0-rmse:13523871.00000\n",
      "[6]\tvalidation_0-rmse:13408279.00000\n",
      "[7]\tvalidation_0-rmse:13329640.00000\n",
      "[8]\tvalidation_0-rmse:13250593.00000\n",
      "[9]\tvalidation_0-rmse:13219998.00000\n",
      "[10]\tvalidation_0-rmse:13073152.00000\n",
      "[11]\tvalidation_0-rmse:12949796.00000\n",
      "[12]\tvalidation_0-rmse:12851255.00000\n",
      "[13]\tvalidation_0-rmse:12804333.00000\n",
      "[14]\tvalidation_0-rmse:12725813.00000\n",
      "[15]\tvalidation_0-rmse:12676160.00000\n",
      "[16]\tvalidation_0-rmse:12636173.00000\n",
      "[17]\tvalidation_0-rmse:12618425.00000\n",
      "[18]\tvalidation_0-rmse:12598822.00000\n",
      "[19]\tvalidation_0-rmse:12625138.00000\n",
      "[20]\tvalidation_0-rmse:12625574.00000\n",
      "[21]\tvalidation_0-rmse:12724915.00000\n",
      "[22]\tvalidation_0-rmse:12715036.00000\n",
      "[23]\tvalidation_0-rmse:12710620.00000\n",
      "Stopping. Best iteration:\n",
      "[18]\tvalidation_0-rmse:12598822.00000\n",
      "\n",
      "[0]\tvalidation_0-rmse:14593137.00000\n",
      "Will train until validation_0-rmse hasn't improved in 5 rounds.\n",
      "[1]\tvalidation_0-rmse:14268623.00000\n",
      "[2]\tvalidation_0-rmse:14013579.00000\n",
      "[3]\tvalidation_0-rmse:13755708.00000\n",
      "[4]\tvalidation_0-rmse:13565807.00000\n",
      "[5]\tvalidation_0-rmse:13443430.00000\n",
      "[6]\tvalidation_0-rmse:13334489.00000\n",
      "[7]\tvalidation_0-rmse:13283391.00000\n",
      "[8]\tvalidation_0-rmse:13094749.00000\n",
      "[9]\tvalidation_0-rmse:12961080.00000\n",
      "[10]\tvalidation_0-rmse:12837962.00000\n",
      "[11]\tvalidation_0-rmse:12744949.00000\n",
      "[12]\tvalidation_0-rmse:12711094.00000\n",
      "[13]\tvalidation_0-rmse:12665272.00000\n",
      "[14]\tvalidation_0-rmse:12676916.00000\n",
      "[15]\tvalidation_0-rmse:12650014.00000\n",
      "[16]\tvalidation_0-rmse:12631156.00000\n",
      "[17]\tvalidation_0-rmse:12640723.00000\n",
      "[18]\tvalidation_0-rmse:12628574.00000\n",
      "[19]\tvalidation_0-rmse:12617034.00000\n",
      "[20]\tvalidation_0-rmse:12639304.00000\n",
      "[21]\tvalidation_0-rmse:12691749.00000\n",
      "[22]\tvalidation_0-rmse:12747847.00000\n",
      "[23]\tvalidation_0-rmse:12806452.00000\n",
      "[24]\tvalidation_0-rmse:12900745.00000\n",
      "Stopping. Best iteration:\n",
      "[19]\tvalidation_0-rmse:12617034.00000\n",
      "\n",
      "[0]\tvalidation_0-rmse:14544923.00000\n",
      "Will train until validation_0-rmse hasn't improved in 5 rounds.\n",
      "[1]\tvalidation_0-rmse:14190560.00000\n",
      "[2]\tvalidation_0-rmse:13920487.00000\n",
      "[3]\tvalidation_0-rmse:13654076.00000\n",
      "[4]\tvalidation_0-rmse:13496117.00000\n",
      "[5]\tvalidation_0-rmse:13350718.00000\n",
      "[6]\tvalidation_0-rmse:13287993.00000\n",
      "[7]\tvalidation_0-rmse:13082936.00000\n",
      "[8]\tvalidation_0-rmse:12930596.00000\n",
      "[9]\tvalidation_0-rmse:12798833.00000\n",
      "[10]\tvalidation_0-rmse:12741936.00000\n",
      "[11]\tvalidation_0-rmse:12684817.00000\n",
      "[12]\tvalidation_0-rmse:12679770.00000\n",
      "[13]\tvalidation_0-rmse:12645489.00000\n",
      "[14]\tvalidation_0-rmse:12630928.00000\n",
      "[15]\tvalidation_0-rmse:12678525.00000\n",
      "[16]\tvalidation_0-rmse:12661668.00000\n",
      "[17]\tvalidation_0-rmse:12719908.00000\n",
      "[18]\tvalidation_0-rmse:12736991.00000\n",
      "[19]\tvalidation_0-rmse:12741375.00000\n",
      "Stopping. Best iteration:\n",
      "[14]\tvalidation_0-rmse:12630928.00000\n",
      "\n"
     ]
    },
    {
     "data": {
      "text/plain": [
       "[<matplotlib.lines.Line2D at 0x7ff0b58bb810>]"
      ]
     },
     "execution_count": 32,
     "metadata": {},
     "output_type": "execute_result"
    },
    {
     "data": {
      "image/png": "[encoded data removed]",
      "text/plain": [
       "<Figure size 432x288 with 1 Axes>"
      ]
     },
     "metadata": {
      "needs_background": "light"
     },
     "output_type": "display_data"
    }
   ],
   "source": [
    "error = []\n",
    "lr=[]\n",
    "for x in range(1,10):\n",
    "    \n",
    "    model_xgb = XGBRegressor(n_jobs=4,learning_rate=(x/100))\n",
    "    model_xgb.fit(X_train, y_train, \n",
    "                  early_stopping_rounds=5,\n",
    "                 eval_set=[(X_test, y_test)],\n",
    "                 verbose=True)\n",
    "    prediction =model_xgb.predict(X_test)\n",
    "    lr.append(x/100)\n",
    "    error.append(mean_absolute_error(y_test,prediction))\n",
    "plt.plot(lr,error)"
   ]
  },
  {
   "cell_type": "markdown",
   "execution_count": null,
   "metadata": {},
   "source": [
    "### Rounds"
   ]
  },
  {
   "cell_type": "code",
   "execution_count": 33,
   "metadata": {},
   "outputs": [
    {
     "data": {
      "text/plain": [
       "1205608.618731207"
      ]
     },
     "execution_count": 33,
     "metadata": {},
     "output_type": "execute_result"
    }
   ],
   "source": [
    "\n",
    "model_xgb = XGBRegressor(n_estimators=1000,n_jobs=4,learning_rate=0.04)\n",
    "model_xgb.fit(X_train, y_train, \n",
    "              eval_set=[(X_test, y_test)],\n",
    "               verbose=False)\n",
    "prediction =model_xgb.predict(X_test)\n",
    "mean_absolute_error(y_test,prediction)"
   ]
  },
  {
   "cell_type": "code",
   "execution_count": 34,
   "metadata": {},
   "outputs": [],
   "source": [
    "# save best model to pickle"
   ]
  },
  {
   "cell_type": "code",
   "execution_count": 35,
   "metadata": {},
   "outputs": [],
   "source": [
    "pickl = {'model': model_rf}\n",
    "pickle.dump( pickl, open( 'model_file' + \".p\", \"wb\" ) )"
   ]
  }
 ],
 "metadata": {
  "kernelspec": {
   "display_name": "Python 3",
   "language": "python",
   "name": "python3"
  },
  "language_info": {
   "codemirror_mode": {
    "name": "ipython",
    "version": 3
   },
   "file_extension": ".py",
   "mimetype": "text/x-python",
   "name": "python",
   "nbconvert_exporter": "python",
   "pygments_lexer": "ipython3",
   "version": "3.7.6"
  }
 },
 "nbformat": 4,
 "nbformat_minor": 4
}
